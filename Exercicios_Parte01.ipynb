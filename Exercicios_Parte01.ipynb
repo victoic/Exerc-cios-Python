{
 "cells": [
  {
   "cell_type": "code",
   "execution_count": 1,
   "metadata": {
    "colab": {
     "base_uri": "https://localhost:8080/",
     "height": 158
    },
    "colab_type": "code",
    "executionInfo": {
     "elapsed": 9344,
     "status": "ok",
     "timestamp": 1548596858975,
     "user": {
      "displayName": "Dayvid Welles de Castro Oliveira",
      "photoUrl": "",
      "userId": "07105170764182929985"
     },
     "user_tz": 180
    },
    "id": "xCRUh6rVj7GY",
    "outputId": "3620f5e5-54da-4ec1-a81b-7fce6eb48f49"
   },
   "outputs": [
    {
     "name": "stderr",
     "output_type": "stream",
     "text": [
      "'pip3' nÆo ‚ reconhecido como um comando interno\n",
      "ou externo, um programa oper vel ou um arquivo em lotes.\n"
     ]
    }
   ],
   "source": [
    "!pip3 install --upgrade pip"
   ]
  },
  {
   "cell_type": "markdown",
   "metadata": {
    "colab_type": "text",
    "id": "DVEozxMjq4qT"
   },
   "source": [
    "## Introduzindo Operações Básicas com Tipos Numéricos e Booleanos"
   ]
  },
  {
   "cell_type": "markdown",
   "metadata": {
    "colab_type": "text",
    "id": "k3RWYbNB5clO"
   },
   "source": [
    "1 - Compute a saída da seguinte expressão matemática sem realizar nenhuma simplificação:\n",
    "$ a^{2} + \\frac{3}{4} \\times b \\times 987(c - \\frac{10^{-9}}{\\sqrt{0.5^{3}}}) $. Assuma que os valores das variáveis a, b e c correpondam a 2, 4 e 8, respectivamente. Armazene o resultado em uma variável.\n",
    "\n",
    "Dica: consulte os operadores aritméticos disponíveis no Python. Utilize a biblioteca math para operação de raiz."
   ]
  },
  {
   "cell_type": "code",
   "execution_count": 4,
   "metadata": {
    "colab": {},
    "colab_type": "code",
    "id": "Y6UcwvJw57MC"
   },
   "outputs": [],
   "source": [
    "# Insira a resposta abaixo.\n",
    "\n"
   ]
  },
  {
   "cell_type": "markdown",
   "metadata": {
    "colab_type": "text",
    "id": "YTUAjlIWVM6C"
   },
   "source": [
    "2 - Armazene em uma variável o resto da divisão da expressão anterior por 23691."
   ]
  },
  {
   "cell_type": "code",
   "execution_count": 5,
   "metadata": {
    "colab": {},
    "colab_type": "code",
    "id": "hPB1-d0GVM_9"
   },
   "outputs": [],
   "source": [
    "# Insira a resposta abaixo."
   ]
  },
  {
   "cell_type": "markdown",
   "metadata": {
    "colab_type": "text",
    "id": "Xddy2CmgIqzJ"
   },
   "source": [
    "3 - Cheque se a saída do resto da divisão é ***i) igual a 1***, ***ii) maior que 1***, ***iii) menor ou igual que 1*** e ***iv) diferente de 1***. Utilize a função *print* para exibir a saída de cada checagem. Consulte os operadores relacionais disponívels no Python."
   ]
  },
  {
   "cell_type": "code",
   "execution_count": 6,
   "metadata": {
    "colab": {},
    "colab_type": "code",
    "id": "HfNOkdqdJMVG"
   },
   "outputs": [],
   "source": [
    "# Insira a resposta abaixo.\n"
   ]
  },
  {
   "cell_type": "markdown",
   "metadata": {
    "colab_type": "text",
    "id": "lqXrELgV-qoc"
   },
   "source": [
    "4 - Exiba a saída de operações booleanas do tipo **AND** e do tipo **OR** entre dois termos que apresentem valores: \n",
    "1. **verdadeiros**;\n",
    "2. **verdadeiro e falso**;\n",
    "3. **falsos**.\n",
    "\n",
    "Ao todo devem ser apresentadas seis operações."
   ]
  },
  {
   "cell_type": "code",
   "execution_count": 7,
   "metadata": {
    "colab": {},
    "colab_type": "code",
    "id": "iwYPHG8zAzEx"
   },
   "outputs": [],
   "source": [
    "# Insira a resposta abaixo.\n"
   ]
  },
  {
   "cell_type": "markdown",
   "metadata": {
    "colab_type": "text",
    "id": "OhCPDEUc6INz"
   },
   "source": [
    "5 - Escreva a seguinte expressão booleana **(A + B) . (¬B . A)**. Considere que \"+\" indica uma operação  OR; \".\" indica uma operação AND e ''¬'' indica uma operação de negação (NOT). Defina previamente a variávei *A* com valor verdadeiro e a variávei *B* com valor falso."
   ]
  },
  {
   "cell_type": "code",
   "execution_count": 8,
   "metadata": {
    "colab": {},
    "colab_type": "code",
    "id": "uDy9e_grMP2m"
   },
   "outputs": [],
   "source": [
    "# Insira a resposta abaixo.\n"
   ]
  },
  {
   "cell_type": "markdown",
   "metadata": {
    "colab_type": "text",
    "id": "WrAa05rZ-qxj"
   },
   "source": [
    "6 - Cheque se a saída da expressão booleana da questão imediatamente anterior é falsa."
   ]
  },
  {
   "cell_type": "code",
   "execution_count": 9,
   "metadata": {
    "colab": {},
    "colab_type": "code",
    "id": "vJY1q4-_0X6B"
   },
   "outputs": [],
   "source": [
    "# Insira a resposta abaixo.\n"
   ]
  },
  {
   "cell_type": "markdown",
   "metadata": {
    "colab_type": "text",
    "id": "WqIZVzrCpuqp"
   },
   "source": [
    "## Introduzindo Operações com Strings\n",
    "\n",
    "Dica: você pode utilizar a função *help(arg)* para visualizar os métodos que podem ser acessados a partir de uma variável de um tipo qualquer.\n",
    "\n",
    "Segue abaixo alguns exemplos:\n",
    "\n",
    "```\n",
    "# Exemplo usando como argumento a função que representa o tipo de dado\n",
    "help(str)\n",
    "\n",
    "# Exemplo usando uma variavel qualquer\n",
    "a = \"teste\"\n",
    "help(a)\n",
    "\n",
    "# Exemplo utilizando uma variavel do tipo dicionário\n",
    "dicionario = {\"chave\":\"valor\"}\n",
    "help(dicionario)\n",
    "\n",
    "```\n",
    "\n"
   ]
  },
  {
   "cell_type": "markdown",
   "metadata": {
    "colab_type": "text",
    "id": "V_Du1ew3MXy8"
   },
   "source": [
    "7 - Defina uma variável com o valor \"hello wORld\". Utilize as funções de string do Python para reproduzir as seguintes saídas: \"Hello World\", \"hello world\", \"HELLO WORLD\".  Dica: para visualizar as funções disponíveis digite em uma célula de código `'str' ` e em seguida tecle tab.\n"
   ]
  },
  {
   "cell_type": "code",
   "execution_count": 10,
   "metadata": {
    "colab": {
     "base_uri": "https://localhost:8080/",
     "height": 70
    },
    "colab_type": "code",
    "executionInfo": {
     "elapsed": 724,
     "status": "ok",
     "timestamp": 1548617878784,
     "user": {
      "displayName": "Dayvid Welles de Castro Oliveira",
      "photoUrl": "",
      "userId": "07105170764182929985"
     },
     "user_tz": 180
    },
    "id": "tRPJVsT0tbsh",
    "outputId": "0c7a8f0e-777d-4ce3-a2e2-e1ed4c3c5313"
   },
   "outputs": [
    {
     "name": "stdout",
     "output_type": "stream",
     "text": [
      "Hello World\n",
      "HELLO WORLD\n",
      "hello world\n"
     ]
    }
   ],
   "source": [
    "# Insira a resposta abaixo.\n",
    "\n",
    "a = \"hello wORld\"\n",
    "print(a.title())\n",
    "print(a.upper())\n",
    "print(a.lower())\n"
   ]
  },
  {
   "cell_type": "markdown",
   "metadata": {
    "colab_type": "text",
    "id": "-x6qgUMjN4Po"
   },
   "source": [
    "8 - Dada a seguinte frase \" *Esse é o seu primeiro tweet.* \", remova os espaços em branco das extremidades. Em seguida, substitua a palavra *'primeiro'* por *'segundo'*. \n",
    "\n",
    "\n",
    "\n",
    "**Observação:** a operação para remoção de espaços não atua em um modo '*in-place*', isto é, não altera diretamente o objeto, apenas retorna uma cópia modificada que pode ser armazenada em uma variável. A seguir, pode-se conferir um exemplo de uma operação que não é in-place e requer que assinalemos uma variável para receber a modificação. "
   ]
  },
  {
   "cell_type": "code",
   "execution_count": 11,
   "metadata": {
    "colab": {
     "base_uri": "https://localhost:8080/",
     "height": 52
    },
    "colab_type": "code",
    "executionInfo": {
     "elapsed": 922,
     "status": "ok",
     "timestamp": 1548617567445,
     "user": {
      "displayName": "Dayvid Welles de Castro Oliveira",
      "photoUrl": "",
      "userId": "07105170764182929985"
     },
     "user_tz": 180
    },
    "id": "j-5VN4jTy3vn",
    "outputId": "f50a3a7c-1a11-4d7e-9c70-4a1a6a3e817c"
   },
   "outputs": [
    {
     "name": "stdout",
     "output_type": "stream",
     "text": [
      "teste\n",
      "testa\n"
     ]
    }
   ],
   "source": [
    "# EXEMPLO: operação que não atua em modo 'in-place'\n",
    "\n",
    "a = 'teste'\n",
    "\n",
    "# primeiro caso\n",
    "a.replace('ste', 'sta')\n",
    "print(a)\n",
    "\n",
    "# segundo caso\n",
    "a = a.replace('ste', 'sta')\n",
    "print(a)"
   ]
  },
  {
   "cell_type": "code",
   "execution_count": 12,
   "metadata": {
    "colab": {
     "base_uri": "https://localhost:8080/",
     "height": 34
    },
    "colab_type": "code",
    "executionInfo": {
     "elapsed": 684,
     "status": "ok",
     "timestamp": 1548618448738,
     "user": {
      "displayName": "Dayvid Welles de Castro Oliveira",
      "photoUrl": "",
      "userId": "07105170764182929985"
     },
     "user_tz": 180
    },
    "id": "FStrq8MgO-w1",
    "outputId": "cb07ed9a-fdf6-4e13-8844-cb41f163d2e9"
   },
   "outputs": [],
   "source": [
    "# Insira a resposta abaixo."
   ]
  },
  {
   "cell_type": "markdown",
   "metadata": {
    "colab_type": "text",
    "id": "-hy5Hx4mjKpZ"
   },
   "source": [
    "9 - Fazendo uso do resultado da questão anterior, exiba a quantidade de ocorrências da palavra *'segundo'* e em seguida a quantidade de caracteres *'s'*."
   ]
  },
  {
   "cell_type": "code",
   "execution_count": 13,
   "metadata": {
    "colab": {},
    "colab_type": "code",
    "id": "2bqwnWxo2brg"
   },
   "outputs": [],
   "source": [
    "# Insira a resposta abaixo."
   ]
  },
  {
   "cell_type": "markdown",
   "metadata": {
    "colab_type": "text",
    "id": "Ah4Io41N3q5w"
   },
   "source": [
    "10 - Concatene duas variáveis do tipo strings com valores arbitrários e exiba o resultado.\n",
    "\n",
    "**Observação:** A string resultante deve possuir no mínimo quatro caracteres."
   ]
  },
  {
   "cell_type": "code",
   "execution_count": 14,
   "metadata": {
    "colab": {},
    "colab_type": "code",
    "id": "VQklMBD-2agi"
   },
   "outputs": [],
   "source": [
    "# Insira a resposta abaixo.\n"
   ]
  },
  {
   "cell_type": "markdown",
   "metadata": {
    "colab_type": "text",
    "id": "-8Oy9MrNDJPV"
   },
   "source": [
    "11 - Utilize a indexação e exiba apenas do segundo ao quarto caractere da variável do tipo string resultante questão imediatamente anterior."
   ]
  },
  {
   "cell_type": "code",
   "execution_count": 15,
   "metadata": {
    "colab": {
     "base_uri": "https://localhost:8080/",
     "height": 34
    },
    "colab_type": "code",
    "executionInfo": {
     "elapsed": 433,
     "status": "ok",
     "timestamp": 1548688967740,
     "user": {
      "displayName": "Dayvid Welles de Castro Oliveira",
      "photoUrl": "",
      "userId": "07105170764182929985"
     },
     "user_tz": 180
    },
    "id": "1qQLmrNrDXmM",
    "outputId": "8fa7b0d7-0c48-4cf7-943e-23b8c8b868e4"
   },
   "outputs": [
    {
     "name": "stdout",
     "output_type": "stream",
     "text": [
      "ala\n"
     ]
    }
   ],
   "source": [
    "# Insira a resposta abaixo.\n"
   ]
  },
  {
   "cell_type": "markdown",
   "metadata": {
    "colab_type": "text",
    "id": "KsBiozVOxEEF"
   },
   "source": [
    "12 - Exiba a string \"Mensagem: \" seguida pela string armazenada na variável *msg* definida abaixo. Dica: utilize a função format()."
   ]
  },
  {
   "cell_type": "code",
   "execution_count": 18,
   "metadata": {
    "colab": {
     "base_uri": "https://localhost:8080/",
     "height": 34
    },
    "colab_type": "code",
    "executionInfo": {
     "elapsed": 1065,
     "status": "ok",
     "timestamp": 1548701089062,
     "user": {
      "displayName": "Dayvid Welles de Castro Oliveira",
      "photoUrl": "",
      "userId": "07105170764182929985"
     },
     "user_tz": 180
    },
    "id": "nRqtTDFTxDuL",
    "outputId": "958b40ff-a901-4617-a517-a522b148434f"
   },
   "outputs": [],
   "source": [
    "msg = \"This is your first tweet.\"\n",
    "# Insira a resposta abaixo.\n"
   ]
  },
  {
   "cell_type": "markdown",
   "metadata": {
    "colab_type": "text",
    "id": "6afUv7-Q8XRT"
   },
   "source": [
    "13  - Reproduza as próximas três mensagens a partir das variáveis definidas na célula de código."
   ]
  },
  {
   "cell_type": "markdown",
   "metadata": {
    "colab_type": "text",
    "id": "j4__WoXI_XGe"
   },
   "source": [
    "**Mensagem**: Definir uma string com três aspas simples permite construir textos com quebra de linha automática."
   ]
  },
  {
   "cell_type": "code",
   "execution_count": 19,
   "metadata": {
    "colab": {},
    "colab_type": "code",
    "id": "Iluu-cdN_WSD"
   },
   "outputs": [],
   "source": [
    "tipo_var = \"string\"\n",
    "qtd = \"três\"\n",
    "# Insira a resposta abaixo.\n",
    "\n"
   ]
  },
  {
   "cell_type": "markdown",
   "metadata": {
    "colab_type": "text",
    "id": "9bj-p6aVAYSF"
   },
   "source": [
    "**Mensagem**:  O número pi é aproximadamente 3.14"
   ]
  },
  {
   "cell_type": "code",
   "execution_count": 21,
   "metadata": {
    "colab": {},
    "colab_type": "code",
    "id": "cUJ1s40-8UIu"
   },
   "outputs": [],
   "source": [
    "pi = 3.14159\n",
    "# Insira a resposta abaixo.\n"
   ]
  },
  {
   "cell_type": "markdown",
   "metadata": {
    "colab_type": "text",
    "id": "pkdZ39rrhx4q"
   },
   "source": [
    "**Mensagem**: O meu nome é [*receber string via input*] e eu tenho [*receber inteiro via input*] anos."
   ]
  },
  {
   "cell_type": "code",
   "execution_count": 22,
   "metadata": {
    "colab": {},
    "colab_type": "code",
    "id": "8ukjvm0ghyD1"
   },
   "outputs": [],
   "source": [
    "# Insira a resposta abaixo.\n"
   ]
  },
  {
   "cell_type": "markdown",
   "metadata": {
    "colab_type": "text",
    "id": "WKfYhv8Cqr4u"
   },
   "source": [
    "## Introduzindo Estruturas de Dados\n",
    "\n",
    "Nessa sessão serão exploradas as estruturas de dados do tipo lista, tupla e dicionário. Para realizar os exercícios abaixos baseados em listas podem ser utilizados métodos como *sum(arg), extend(), reverse(), append(), insert(index, element), sort()*."
   ]
  },
  {
   "cell_type": "markdown",
   "metadata": {
    "colab_type": "text",
    "id": "jdd5yFSNrljL"
   },
   "source": [
    "### Listas "
   ]
  },
  {
   "cell_type": "markdown",
   "metadata": {
    "colab_type": "text",
    "id": "NUOrqskrkZdF"
   },
   "source": [
    "14 - Realize as seguintes operações:\n",
    "\n",
    "\n",
    "1. Crie uma lista vazia.\n",
    "2. Adicione três elementos do tipo inteiro ao final da lista (*o método para adição de novos elementos em uma lista atua de forma in-place, portanto, basta invocá-lo.*).\n",
    "3. Adicione um novo elemento na segunda posição da lista (*método in-place).\n",
    "4. Exiba a soma dos quatro elementos (*python já possui uma função built-in para esssa operação*.)\n",
    "5. Re-assinale o elemento da terceiro posição com um valor do tipo float.\n",
    "6. Repita o passo 4.\n",
    "7. Inverta os elementos da lista atual. (*função para inversão é in-place*)\n",
    "8. Re-ordene os elementos da lista.\n",
    "9. Armazene uma nova lista em uma variável qualquer com 2 números inteiros.\n",
    "10. Concatena a nova lista criada com a lista resultante do passo 7.\n",
    "11. Exiba o valor máximo e mínimo da resultante do passo anterior.\n"
   ]
  },
  {
   "cell_type": "code",
   "execution_count": 23,
   "metadata": {},
   "outputs": [],
   "source": [
    "# Insira a resposta abaixo.\n"
   ]
  },
  {
   "cell_type": "markdown",
   "metadata": {
    "colab_type": "text",
    "id": "0Z5yLIA2hDW3"
   },
   "source": [
    "15 - Converta a string definida abaixo em uma lista de palavras, armazene a lista em uma variável. Dica: cheque as operações disponíveis para strings."
   ]
  },
  {
   "cell_type": "code",
   "execution_count": 24,
   "metadata": {
    "colab": {},
    "colab_type": "code",
    "id": "ZBsyU1D7hDfA"
   },
   "outputs": [],
   "source": [
    "frase = \"Formação de Recursos Humanos Qualificados em Inteligência Artificial\"\n",
    "\n",
    "# Insira a resposta abaixo.\n"
   ]
  },
  {
   "cell_type": "markdown",
   "metadata": {
    "colab_type": "text",
    "id": "Ty3XskmQl95g"
   },
   "source": [
    "16 - Verifique se a palavra \"Humanos\" está contida na lista de palavras criada anteriormente. Exiba True ou False para indicar a resposta."
   ]
  },
  {
   "cell_type": "code",
   "execution_count": 25,
   "metadata": {
    "colab": {},
    "colab_type": "code",
    "id": "qHQtRHw7l9_q"
   },
   "outputs": [],
   "source": [
    "# Insira a resposta abaixo.\n"
   ]
  },
  {
   "cell_type": "markdown",
   "metadata": {
    "colab_type": "text",
    "id": "GJVq-7Fzo0Xo"
   },
   "source": [
    "17 - Crie automaticamente uma lista contendo 50 elementos de valor 3 e armazene-a em uma variável. Dica: utilize o operador de multiplicação."
   ]
  },
  {
   "cell_type": "code",
   "execution_count": 26,
   "metadata": {
    "colab": {},
    "colab_type": "code",
    "id": "dORyLchqo0fE"
   },
   "outputs": [],
   "source": [
    "# Insira a resposta abaixo.\n"
   ]
  },
  {
   "cell_type": "markdown",
   "metadata": {
    "colab_type": "text",
    "id": "tjXYlf9drhd-"
   },
   "source": [
    "### Tuplas"
   ]
  },
  {
   "cell_type": "markdown",
   "metadata": {
    "colab_type": "text",
    "id": "mK1S6LhTx8NT"
   },
   "source": [
    "18 - Converta a lista resultante da primeira questão sobre Listas para uma tupla e exiba o tipo de dados do objeto criado. Após realizar o casting, utilize a indexação para exibir todos os elementos com exceção do primeiro e último."
   ]
  },
  {
   "cell_type": "code",
   "execution_count": 27,
   "metadata": {
    "colab": {},
    "colab_type": "code",
    "id": "VRRDYbbAx7ti"
   },
   "outputs": [],
   "source": [
    "# Insira a resposta abaixo.\n"
   ]
  },
  {
   "cell_type": "markdown",
   "metadata": {
    "colab_type": "text",
    "id": "ItO6S8D2_FlO"
   },
   "source": [
    "19 - Exiba os atributos/métodos disponíveis a partir objetos do tipo lista e tuple utilizados na questão anterior. Dica: utilize o método dir."
   ]
  },
  {
   "cell_type": "code",
   "execution_count": 28,
   "metadata": {
    "colab": {},
    "colab_type": "code",
    "id": "eZ-QZUaq_Fr4"
   },
   "outputs": [],
   "source": [
    "# Insira a resposta abaixo.\n"
   ]
  },
  {
   "cell_type": "code",
   "execution_count": 29,
   "metadata": {},
   "outputs": [],
   "source": [
    "# Insira a resposta abaixo.\n"
   ]
  },
  {
   "cell_type": "markdown",
   "metadata": {},
   "source": [
    "20 - Crie uma tupla contendo 5 números inteiros quaisquer. Em seguida, exiba o valor máximo e o valor mínimo da tupla criada."
   ]
  },
  {
   "cell_type": "code",
   "execution_count": 30,
   "metadata": {},
   "outputs": [],
   "source": [
    "# Insira a resposta abaixo.\n"
   ]
  },
  {
   "cell_type": "markdown",
   "metadata": {
    "colab_type": "text",
    "id": "BaCwt9hTrafF"
   },
   "source": [
    "### Dicionários"
   ]
  },
  {
   "cell_type": "markdown",
   "metadata": {
    "colab_type": "text",
    "id": "lSpj33z39Wej"
   },
   "source": [
    "21 - A partir do dicionário inicializado abaixo com quatro items, adicione três novos items com chaves \"three\", \"four\" e \"five\" e valores \"três\", \"quatro\" e \"cinco\"."
   ]
  },
  {
   "cell_type": "code",
   "execution_count": 31,
   "metadata": {
    "colab": {},
    "colab_type": "code",
    "id": "3Bomk_PZ9W2g"
   },
   "outputs": [],
   "source": [
    "my_dict = {}\n",
    "my_dict[\"one\"] = \"um\"\n",
    "my_dict[\"two\"] = \"dois\"\n",
    "my_dict[(1,2)] = [\"um\",\"dois\"]\n",
    "my_dict[1.3] = \"um ponto três\""
   ]
  },
  {
   "cell_type": "markdown",
   "metadata": {},
   "source": [
    "22 - A partir do dicionário definido anteriormente, remova o item (\"one\", \"um\") do dicionário."
   ]
  },
  {
   "cell_type": "code",
   "execution_count": 32,
   "metadata": {},
   "outputs": [],
   "source": [
    "# Insira a resposta abaixo\n"
   ]
  },
  {
   "cell_type": "markdown",
   "metadata": {
    "colab_type": "text",
    "id": "Pl1J-LIM9XHl"
   },
   "source": [
    "23 - A partir do dicionário definido anteriormente, realize as seguintes operações ordenadamente.\n",
    "\n",
    "1.   Exiba a quantidade de items do dicionário.\n",
    "2.   Gere automaticamente uma lista contendo as  chaves do dicionário.\n",
    "3.   Gere automaticamente uma lista contendo os valores do dicionário.\n",
    "4.   Gere automaticamente uma lista composta por tuplas do tipo (chave, valor).\n",
    "5.   Remova os items cuja chaves são (1,2) e 1.3.\n",
    "6.   Exiba o dicionário final\n",
    "\n",
    "\n",
    "\n",
    "\n",
    "\n"
   ]
  },
  {
   "cell_type": "code",
   "execution_count": 33,
   "metadata": {},
   "outputs": [],
   "source": [
    "# Insira a resposta abaixo\n",
    "\n",
    "# Passo 1\n",
    "\n",
    "\n",
    "# Passo 2\n",
    "\n",
    "\n",
    "# Passo 3\n",
    "\n",
    "\n",
    "# Passo 4 \n",
    "\n",
    "\n",
    "# Passo 5\n",
    "\n",
    "\n",
    "# Passo 6"
   ]
  },
  {
   "cell_type": "markdown",
   "metadata": {
    "colab_type": "text",
    "id": "iNDUUfFPqNsC"
   },
   "source": [
    "24 - A partir dos dicionários '*en*' e '*pt_br*' definidos abaixo, crie um terceiro dicionário denominado '*translator*' cujas chaves são, respectivamente, 'en' e 'pt_br' e os valores sejam os dicionários correspondentes. Exiba o dicionário criado."
   ]
  },
  {
   "cell_type": "code",
   "execution_count": 34,
   "metadata": {
    "colab": {},
    "colab_type": "code",
    "id": "iIv7lR8zqNy1"
   },
   "outputs": [],
   "source": [
    "en = {1:\"um\", 2:\"dois\", 3:\"tres\"}\n",
    "pt_br = {1:\"one\", 2:\"two\", 3:\"three\"}\n",
    "\n",
    "# Insira a resposta abaixo\n"
   ]
  },
  {
   "cell_type": "markdown",
   "metadata": {
    "colab_type": "text",
    "id": "wBg-GRXG0om9"
   },
   "source": [
    "1. A partir da string definida abaixo, obtenha uma lista contendo os caracteres únicos.\n",
    "2. Em seguida, crie um dicionário no qual a chave representa o caractere e o valor represente a sua posição na lista criada anteriormente.\n",
    "3. Converta cada string contida na lista \"X\" em lista de caracteres, resultando em uma lista de listas.\n",
    "4. Converta cada frase "
   ]
  },
  {
   "cell_type": "code",
   "execution_count": 35,
   "metadata": {
    "colab": {},
    "colab_type": "code",
    "id": "1UwTyQRt0o8O"
   },
   "outputs": [],
   "source": [
    "# Insira a resposta abaixo"
   ]
  },
  {
   "cell_type": "markdown",
   "metadata": {
    "colab_type": "text",
    "id": "cK-nN01LpxwW"
   },
   "source": [
    "### Estruturas de Decisão"
   ]
  },
  {
   "cell_type": "markdown",
   "metadata": {
    "colab_type": "text",
    "id": "PDkLty8ayY9p"
   },
   "source": [
    "25 - Utilize estruturas de decisão se-senão para construir um script que simule a árvore de decisão disposta na figura abaixo. Para cada nó da árvore, o usuário deve fornecer um valor a ser armazenado em uma variável e utilizado para verificar o fluxo que deve ser seguido até atingir uma das folha, exibindo algum dos valores \"Opção 1\", \"Opção 2\" ou \"Opção 3\".\n",
    "\n",
    "\n",
    "![alt text](https://docs.google.com/uc?export=download&id=1O4rn7YIeOpUcFibD40ir2zJAqfobZIs2)"
   ]
  },
  {
   "cell_type": "code",
   "execution_count": null,
   "metadata": {
    "colab": {},
    "colab_type": "code",
    "id": "YjVkjZGCyZAi"
   },
   "outputs": [],
   "source": []
  },
  {
   "cell_type": "markdown",
   "metadata": {
    "colab_type": "text",
    "id": "b-Td-fgNp2HM"
   },
   "source": [
    "### Estruturas de Repetição\n",
    "\n",
    "for (with range), while, list comprehension"
   ]
  },
  {
   "cell_type": "markdown",
   "metadata": {
    "colab_type": "text",
    "id": "mIhOW0di8iZh"
   },
   "source": [
    "26 - Crie um programa que receba do usuário uma entrada referente a string \"Please, type 'q' to quit\". Enquanto o usuário não digitar o caractere 'q', o programa deve exibir \"Sorry, try again.\" e continuar solicitando a informação. Dica: utilize o comando break para interrupção."
   ]
  },
  {
   "cell_type": "code",
   "execution_count": 36,
   "metadata": {
    "colab": {
     "base_uri": "https://localhost:8080/",
     "height": 34
    },
    "colab_type": "code",
    "executionInfo": {
     "elapsed": 3814,
     "status": "ok",
     "timestamp": 1549306868898,
     "user": {
      "displayName": "Dayvid Welles de Castro Oliveira",
      "photoUrl": "",
      "userId": "07105170764182929985"
     },
     "user_tz": 180
    },
    "id": "BKxPv3BB8ihm",
    "outputId": "998799d3-153e-4297-ea0d-936510b50562"
   },
   "outputs": [],
   "source": [
    "# Insira a resposta abaixo.\n"
   ]
  },
  {
   "cell_type": "markdown",
   "metadata": {
    "colab_type": "text",
    "id": "nnA67LDY8iqI"
   },
   "source": [
    "27 - Crie um programa que imprima apenas os números ímpares entre 1 e 100."
   ]
  },
  {
   "cell_type": "code",
   "execution_count": 37,
   "metadata": {
    "colab": {},
    "colab_type": "code",
    "id": "2_x3vAUe8izO"
   },
   "outputs": [],
   "source": [
    "# Insira a resposta abaixo.\n"
   ]
  },
  {
   "cell_type": "markdown",
   "metadata": {
    "colab_type": "text",
    "id": "m0QJ9fIe7rOl"
   },
   "source": [
    "28 - A partir da lista definida abaixo, crie uma nova lista contendo apenas os números negativos. Dica: considere utilizar o modo list comprehension."
   ]
  },
  {
   "cell_type": "code",
   "execution_count": 38,
   "metadata": {
    "colab": {},
    "colab_type": "code",
    "id": "CHAeZEOw7rWc"
   },
   "outputs": [],
   "source": [
    "lista = [-6, 21, -22, 4, -17, -21, 22, -11, 3, 28]\n",
    "# Insira a resposta abaixo.\n"
   ]
  },
  {
   "cell_type": "markdown",
   "metadata": {
    "colab_type": "text",
    "id": "U_aYQhC5LPXi"
   },
   "source": [
    "29 - Converta a string definida abaixo em uma lista de palavras. Em seguida, crie um dicionário cujas chaves são as palavras contidas no texto e os valores representem a quantidade de ocorrências da palavra em questão.\n",
    "\n",
    "\n"
   ]
  },
  {
   "cell_type": "code",
   "execution_count": 39,
   "metadata": {
    "colab": {
     "base_uri": "https://localhost:8080/",
     "height": 88
    },
    "colab_type": "code",
    "executionInfo": {
     "elapsed": 658,
     "status": "ok",
     "timestamp": 1548786322374,
     "user": {
      "displayName": "Dayvid Welles de Castro Oliveira",
      "photoUrl": "",
      "userId": "07105170764182929985"
     },
     "user_tz": 180
    },
    "id": "EW3G73kBLQD_",
    "outputId": "b2bb5062-b4cd-451e-ba12-5dbc37edaa3b"
   },
   "outputs": [],
   "source": [
    "texto = '''\n",
    "Lorem ipsum dolor sit amet, consectetur adipiscing elit. Maecenas maximus consequat libero sed eleifend. Mauris pulvinar quam pharetra \n",
    "est efficitur maximus. Mauris tincidunt neque cursus ante vehicula viverra. Nullam neque neque, lobortis ut lacinia in, euismod non purus. \n",
    "Quisque egestas pellentesque nulla eget egestas. In sem felis, pellentesque bibendum hendrerit varius, dapibus blandit libero. Nunc \n",
    "fermentum id risus vel suscipit. Aenean laoreet posuere purus ac viverra. Sed vitae sem finibus, tempor magna a, iaculis ex. Pellentesque \n",
    "sit amet scelerisque purus, quis volutpat ante. Lorem ipsum dolor sit amet, consectetur adipiscing elit. Nulla cursus est metus, vitae \n",
    "molestie elit porta a. Praesent pharetra odio id purus auctor porttitor a ut risus. Lorem ipsum dolor sit amet, consectetur adipiscing elit.\n",
    "'''\n",
    "# Insira a resposota abaixo.\n"
   ]
  },
  {
   "cell_type": "markdown",
   "metadata": {
    "colab_type": "text",
    "id": "KEmS5Nr-otZR"
   },
   "source": [
    "Ordene o dicionário abaixo seguindo uma ordem alfabética. \n",
    "\n",
    "Dicas: \n",
    "1. Python já possui uma função built-in ordenação de listas\n",
    "2. É possível utilizar uma estrutura de repetição para construir um novo dicionário."
   ]
  },
  {
   "cell_type": "code",
   "execution_count": 40,
   "metadata": {
    "colab": {},
    "colab_type": "code",
    "id": "dcPK7SXzotiB"
   },
   "outputs": [],
   "source": [
    "# Insira a resposta abaixo.\n"
   ]
  },
  {
   "cell_type": "markdown",
   "metadata": {
    "colab_type": "text",
    "id": "ix_iQWRj21d-"
   },
   "source": [
    "31 - Na lista 'colors' definida abaixo têm-se três tipos diferentes de cores. A partir dela, crie uma nova lista na qual cada string deve assumir uma lista com valores inteiros seguindo uma estratégia binária da seguinte forma:\n",
    "\n",
    "```\n",
    "red,\tgreen,\tblue\n",
    "[1,\t\t0,\t\t0]\n",
    "[0,\t\t1,\t\t0]\n",
    "[0,\t\t0,\t\t1]\n",
    "\n",
    "```\n",
    "\n",
    "Dica: crie uma lista com os três possíveis valores e utilize a posição do elemento.\n",
    "\n"
   ]
  },
  {
   "cell_type": "code",
   "execution_count": 41,
   "metadata": {
    "colab": {
     "base_uri": "https://localhost:8080/",
     "height": 34
    },
    "colab_type": "code",
    "executionInfo": {
     "elapsed": 700,
     "status": "ok",
     "timestamp": 1549302788895,
     "user": {
      "displayName": "Dayvid Welles de Castro Oliveira",
      "photoUrl": "",
      "userId": "07105170764182929985"
     },
     "user_tz": 180
    },
    "id": "h9lQSh8w21pI",
    "outputId": "9f5539a2-63f6-4703-cc94-aadbdf178b13"
   },
   "outputs": [],
   "source": [
    "colors = ['blue', 'blue', 'green', 'blue', 'red', 'red', 'green', 'blue', 'green', 'red']\n",
    "\n",
    "# Insira a resposta abaixo\n"
   ]
  },
  {
   "cell_type": "markdown",
   "metadata": {
    "colab_type": "text",
    "id": "BWeuTJxZpOuG"
   },
   "source": [
    "32 - A partir da lista resultante da questão imediatamente anterior,  reverta o processo e retorne uma lista contendo as strings 'blue', 'green' e 'red'."
   ]
  },
  {
   "cell_type": "code",
   "execution_count": 42,
   "metadata": {
    "colab": {},
    "colab_type": "code",
    "id": "C12-oQ27pO8x"
   },
   "outputs": [],
   "source": [
    "# Insira a resposta abaixo\n"
   ]
  },
  {
   "cell_type": "markdown",
   "metadata": {
    "colab_type": "text",
    "id": "-S18HnsCtKqj"
   },
   "source": [
    "## Funções"
   ]
  },
  {
   "cell_type": "markdown",
   "metadata": {
    "colab_type": "text",
    "id": "cA_GKn6o46WH"
   },
   "source": [
    "33 - Crie uma função que calcule o fatorial de um número passado como argumento. Caso o número seja negativo, retorne um valor nulo. Caso positivo, retorne o resultado do fatorial. Dica: utilize recursividade e lembre-se de considerar que o fatorial de 0 é 1.\n"
   ]
  },
  {
   "cell_type": "code",
   "execution_count": 52,
   "metadata": {
    "colab": {},
    "colab_type": "code",
    "id": "_hs1s18U45_P"
   },
   "outputs": [],
   "source": [
    "# Insira a resposta abaixo\n"
   ]
  },
  {
   "cell_type": "markdown",
   "metadata": {
    "colab_type": "text",
    "id": "XiVGNaWwEBRl"
   },
   "source": [
    "34 - Define uma função que receba um número arbitrário de argumentos e retorne a sua soma. Exiba o resultado de uma chamada dessa função passando como argumentos números inteiros."
   ]
  },
  {
   "cell_type": "code",
   "execution_count": null,
   "metadata": {
    "colab": {},
    "colab_type": "code",
    "id": "0SmmOKbJIw-X"
   },
   "outputs": [],
   "source": [
    "# Insira a resposta abaixo.\n"
   ]
  },
  {
   "cell_type": "markdown",
   "metadata": {
    "colab_type": "text",
    "id": "vbGhkdcjp5cm"
   },
   "source": [
    "### Funções Especiais\n",
    "\n",
    "Nessa sessão serão explorados exercícios baseados em funções especiais do Python, tais como range, lambda, map, filter, enumerate e zip."
   ]
  },
  {
   "cell_type": "markdown",
   "metadata": {
    "colab_type": "text",
    "id": "wHkgbW1ICOp_"
   },
   "source": [
    "35 - Utilize a função *range* para criar uma lista de números inteiros que vai de 100 a -100, seguindo uma ordem decrescente e com intervalos de duas unidades. Exiba a lista gerada."
   ]
  },
  {
   "cell_type": "code",
   "execution_count": 53,
   "metadata": {
    "colab": {},
    "colab_type": "code",
    "id": "s01McQtz1Szd"
   },
   "outputs": [],
   "source": [
    "# Insira a resposta abaixo.\n"
   ]
  },
  {
   "cell_type": "markdown",
   "metadata": {
    "colab_type": "text",
    "id": "mGKZ9A4K111M"
   },
   "source": [
    "36 - Crie uma função anônima que tenha como entrada um único parâmetro e retorne a sua raiz caso o número informado seja maior ou igual a 0. Em caso de números negativos, retorne um valor nulo. Teste a função para os valores -9, 0, 9. Dica: utilize a biblioteca math para acessar operações matemáticas."
   ]
  },
  {
   "cell_type": "code",
   "execution_count": null,
   "metadata": {
    "colab": {},
    "colab_type": "code",
    "id": "Gp-HAS1z12CO"
   },
   "outputs": [],
   "source": [
    "# Insira a resposta abaixo.\n"
   ]
  },
  {
   "cell_type": "markdown",
   "metadata": {
    "colab_type": "text",
    "id": "qh2Wc1d5_r4S"
   },
   "source": [
    "37 - Uma pesquisa de satisfação dos empregados de uma determinada empresa reuniu dados referente a um questionário no qual foi computado o nível de satisfação do empregado em relação ao salário recebido. Os valores salariais estão armazenados na variávei 'salarios' e pontuação do questionário está armazenada na variável 'satisfacao_empregado'. Realize os seguintes procedimentos.\n",
    "\n",
    "1. A partir da lista satisfacao_empregados, gere uma nova lista com valores normalizados entre 0 e 1.  Fórmula para normalização: $ \\frac{x_i - x_{min}}{x_{max} - x_{min}} $\n",
    "2. Crie a seguinte função: $ f(x) = 0.0004x -0.4 $. A função recebe como entrada um unico número inteiro.\n",
    "3. Utilize a função criada no passo anterior para criar uma nova lista a partir da lista '*salarios*'. Armazene-a em uma variável denominada '*satisfacao_estimada*'.\n",
    "4. Crie uma função que receba como entrada duas listas e compute $ \\frac{1}{n}\\sum_{i=0}^{n}(a_i - b_i)^2 $. Assuma que $n$ seja o número de elementos de qualquer uma das listas e $a$ e $b$ correspondam a valores das listas em uma mesma posição $i$.\n",
    "\n",
    "Dica: considere utilizar a função map e a função anônima lambda para os procedimentos simples como, por exemplo, dos passos 1 ao 3."
   ]
  },
  {
   "cell_type": "code",
   "execution_count": 54,
   "metadata": {
    "colab": {
     "base_uri": "https://localhost:8080/",
     "height": 53
    },
    "colab_type": "code",
    "executionInfo": {
     "elapsed": 837,
     "status": "ok",
     "timestamp": 1550162777464,
     "user": {
      "displayName": "Dayvid Welles de Castro Oliveira",
      "photoUrl": "",
      "userId": "07105170764182929985"
     },
     "user_tz": 180
    },
    "id": "MoGWCkce_r_6",
    "outputId": "5aaf147b-5e9d-4d54-87e3-802d92cdc3fa"
   },
   "outputs": [
    {
     "name": "stdout",
     "output_type": "stream",
     "text": [
      "[0.0, 0.2, 0.4, 0.6, 0.8, 1.0]\n",
      "2.5679065925163146e-33\n"
     ]
    }
   ],
   "source": [
    "# Insira a resposta abaixo.\n",
    "salarios = [1000, 1500, 2000, 2500, 3000, 3500]\n",
    "satisfacao_empregados = [40, 50, 60, 70, 80, 90]\n",
    "\n",
    "# Insira abaixo a funcao para normalizar a lista satisfacao_empregados\n",
    "minimo = min(satisfacao_empregados)\n",
    "maximo = max(satisfacao_empregados)\n",
    "satisfacao_empregados_normalizado = list(map(lambda i:(i-minimo)/(maximo-minimo), satisfacao_empregados))\n",
    "print(satisfacao_empregados_normalizado)\n",
    "exit()\n",
    "# Insira abaixo a funcao para calcular a satisfacao \n",
    "def f_(x):\n",
    "  return 0.0004 * x - 0.4\n",
    "\n",
    "satisfacao_estimada = map(lambda i:f_(i), salarios)\n",
    "\n",
    "# Insira a funcao para calcular o erro quadratico minimo\n",
    "def erro_medio(lst1, lst2):\n",
    "  soma = sum([(n1 - n2)**2 for n1, n2 in zip(lst1, lst2)])\n",
    "  erro_medio = soma / len(lst1)\n",
    "  return erro_medio\n",
    "\n",
    "print(erro_medio(satisfacao_empregados_normalizado, satisfacao_estimada))"
   ]
  },
  {
   "cell_type": "markdown",
   "metadata": {
    "colab_type": "text",
    "id": "UxrISLw--kIE"
   },
   "source": [
    "38 - A partir da lista definida abaixo, filtre-a de forma que somente as palavras com menos de 3 caracteres sejam mantidas. Dica: utilize a função filter."
   ]
  },
  {
   "cell_type": "code",
   "execution_count": 3,
   "metadata": {
    "colab": {
     "base_uri": "https://localhost:8080/",
     "height": 34
    },
    "colab_type": "code",
    "executionInfo": {
     "elapsed": 671,
     "status": "ok",
     "timestamp": 1549308822621,
     "user": {
      "displayName": "Dayvid Welles de Castro Oliveira",
      "photoUrl": "",
      "userId": "07105170764182929985"
     },
     "user_tz": 180
    },
    "id": "onMCh04A-kQF",
    "outputId": "15b82315-7bec-45c7-cb69-801581121a44"
   },
   "outputs": [],
   "source": [
    "lista = ['tempor', 'erat,', 'in,', 'elit', 'Etiam', 'tincidunt.', 'rutrum', 'ut,', 'lacinia', 'Integer', 'Nam', 'turpis', 'Nulla', 'non.', 'vehicula', 'diam', 'porttitor', 'blandit', 'Sed', 'pharetra', 'erat', 'hendrerit', 'tristique', 'vulputate', 'faucibus.', 'augue.', 'potenti.', 'vel', 'eros', 'imperdiet,', 'a.', 'dolor.', 'pretium', 'Fusce', 'sit', 'ornare', 'Morbi', 'quis', 'fringilla', 'lobortis', 'tempus', 'mauris', 'ante,', 'lacus', 'porta.', 'faucibus,', 'quis.', 'vestibulum', 'primis', 'luctus,', 'ullamcorper.', 'augue', 'nec', 'mollis', 'lectus', 'dolor', 'sodales', 'ligula,', 'dignissim', 'sem', 'varius', 'mi', 'eu', 'elit.', 'semper', 'id,', 'tempus.', 'finibus.', 'neque', 'quam.', 'scelerisque', 'lorem', 'diam,', 'Cras', 'nisi', 'Lorem', 'leo,', 'Ut', 'ut', 'feugiat.', 'ante', 'venenatis', 'fermentum', 'congue', 'urna', 'Praesent', 'Donec', 'Vestibulum', 'purus.', 'Nullam', 'tincidunt', 'efficitur', 'velit', 'commodo.', 'iaculis', 'sed,', 'volutpat', 'amet', 'mauris.', 'odio', 'a', 'Interdum', 'neque.', 'risus', 'vitae', 'consectetur', 'adipiscing', 'at', 'Aliquam', 'molestie', 'euismod', 'odio.', 'sed', 'in', 'suscipit', 'augue,', 'sapien', 'posuere', 'euismod,', 'ipsum', 'et.', 'maximus.', 'risus,', 'Suspendisse', 'et', 'facilisis', 'elementum', 'efficitur,', 'ac', 'nulla.', 'quam', 'arcu', 'fames', 'Nunc', 'pharetra,', 'laoreet', 'ligula', 'fermentum,', 'auctor', 'tortor,', 'Curabitur', 'eget', 'finibus', 'ultrices', 'malesuada', 'purus', 'congue,', 'amet,', 'fermentum.', 'dui']\n",
    "\n",
    "# Insira a resposta abaixo.\n"
   ]
  },
  {
   "cell_type": "markdown",
   "metadata": {
    "colab_type": "text",
    "id": "Mvu_3JcQ0JZj"
   },
   "source": [
    "39 - A partir da lista definida abaixo, gere automaticamente e exiba um dicionário enumerado do tipo:\n",
    "\n",
    "```\n",
    "dicionario = {0: 'Preprocessing', 1: 'Feature Extraction', 2: 'Feature Selection' ...}\n",
    "\n",
    "```\n",
    "\n",
    "Em seguida, gere a seguinte saída:\n",
    "\n",
    "Step 1 - Preprocessing\n",
    "\n",
    "Step 2 - Feature Extraction\n",
    "\n",
    "Step 3 - Feature Selection\n",
    "\n",
    "Step 4 - Classification\n",
    "\n",
    "Step 5 - Post Processing"
   ]
  },
  {
   "cell_type": "code",
   "execution_count": 2,
   "metadata": {
    "colab": {
     "base_uri": "https://localhost:8080/",
     "height": 34
    },
    "colab_type": "code",
    "executionInfo": {
     "elapsed": 694,
     "status": "ok",
     "timestamp": 1548953112878,
     "user": {
      "displayName": "Dayvid Welles de Castro Oliveira",
      "photoUrl": "",
      "userId": "07105170764182929985"
     },
     "user_tz": 180
    },
    "id": "jNIHsLKw0Jhm",
    "outputId": "d8c13da5-ea40-4205-f248-f5ca07bcb4be"
   },
   "outputs": [],
   "source": [
    "lst = [\"Preprocessing\", \"Feature Extraction\", \"Feature Selection\", \"Classification\", \"Post Processing\"]\n",
    "\n",
    "# Insira a resposta abaixo.\n"
   ]
  },
  {
   "cell_type": "markdown",
   "metadata": {
    "colab_type": "text",
    "id": "wb6C_-EszkKA"
   },
   "source": [
    "40 - Realize os seguintes procedimentos:\n",
    "1. Crie uma lista de números inteiros de 1 a 4 com incremento de 1 em 1.\n",
    "2. Crie uma lista contendo quatro strings.\n",
    "3. Utilize uma única estrutura de repetição do tipo *for* para iterar paralelamente sobre os quatro elementos de cada uma das duas listas. Exiba os elementos."
   ]
  },
  {
   "cell_type": "code",
   "execution_count": 4,
   "metadata": {
    "colab": {
     "base_uri": "https://localhost:8080/",
     "height": 85
    },
    "colab_type": "code",
    "executionInfo": {
     "elapsed": 563,
     "status": "ok",
     "timestamp": 1548786604434,
     "user": {
      "displayName": "Dayvid Welles de Castro Oliveira",
      "photoUrl": "",
      "userId": "07105170764182929985"
     },
     "user_tz": 180
    },
    "id": "2bEJ3OYmzkQy",
    "outputId": "cd385708-4004-4ecd-b959-0797dc9bbad1"
   },
   "outputs": [],
   "source": [
    "# Insira o código abaixo.\n"
   ]
  },
  {
   "cell_type": "markdown",
   "metadata": {
    "colab_type": "text",
    "id": "4a94p1n85MRN"
   },
   "source": [
    "## Orientação à Objetos"
   ]
  },
  {
   "cell_type": "markdown",
   "metadata": {
    "colab_type": "text",
    "id": "2nkmK2xGAeIV"
   },
   "source": [
    "41 - Crie uma classe que modele um ser humano, esta deve possuir os seguintes atributos e métodos:\n",
    "* nome\n",
    "* idade\n",
    "* peso\n",
    "* altura\n",
    "* envelhecer()\n",
    "* engordar()\n",
    "* emagrecer()\n",
    "* crescer()\n",
    "\n",
    "O acesso aos atributos deve ser realizado através de métodos. O método envelhecer adicionar +1 na idade, o método engordar adiciona +1 no peso, o método emagrecer subtrai -1 no peso e o método crescer adicionar +1 na altura. Considere que a cada ano em que a pessoa envelhece, ela deve crescer 1 cm caso a idade dela seja menor que 20 anos."
   ]
  },
  {
   "cell_type": "code",
   "execution_count": null,
   "metadata": {
    "colab": {},
    "colab_type": "code",
    "id": "KEMBcimDAeUi"
   },
   "outputs": [],
   "source": [
    "# Insira a resposta abaixo.\n"
   ]
  },
  {
   "cell_type": "markdown",
   "metadata": {
    "colab_type": "text",
    "id": "vBDbxIOj3eUN"
   },
   "source": [
    "42 - Instancie um objeto da classe Humano com 17 anos, 170 cm de altura e 70 quilos e realize os seguintes passos:\n",
    "* Exiba a idade e altura antes e após chamar o método envelhecer.\n",
    "* Exiba o peso antes e após chamar o método engordar.\n",
    "* Exiba o peso antes e após chamar o método emagrecer."
   ]
  },
  {
   "cell_type": "code",
   "execution_count": 5,
   "metadata": {
    "colab": {},
    "colab_type": "code",
    "id": "Q-YQ8EOE3edK"
   },
   "outputs": [],
   "source": [
    "# Insira a resposta abaixo.\n"
   ]
  },
  {
   "cell_type": "markdown",
   "metadata": {
    "colab_type": "text",
    "id": "om2ykVS9qRyR"
   },
   "source": [
    "43 - Crie uma classe que modele um Funcionario, ela deve herdar todas as características da classe Humano, além dos seguintes atributos:\n",
    "\n",
    "* profissao\n",
    "* salario\n",
    "\n",
    "O acesso aos atributos deve ser realizado através de métodos."
   ]
  },
  {
   "cell_type": "code",
   "execution_count": null,
   "metadata": {
    "colab": {},
    "colab_type": "code",
    "id": "3xQeEwFFqR3k"
   },
   "outputs": [],
   "source": [
    "# Insira a resposta abaixo.\n"
   ]
  },
  {
   "cell_type": "markdown",
   "metadata": {
    "colab_type": "text",
    "id": "V8ciqsFO3_ZC"
   },
   "source": [
    "44 - Crie um objeto da classe Funcionario que realize os seguintes passos:\n",
    "* Exiba o nome do funcionário\n",
    "* Exiba a profissao inicial e uma nova profissão assinalada ao objeto.\n",
    "* Exiba o salário inicial e o salário após um aumento de 500 reais."
   ]
  },
  {
   "cell_type": "code",
   "execution_count": null,
   "metadata": {
    "colab": {},
    "colab_type": "code",
    "id": "WleD7MY_3_eq"
   },
   "outputs": [],
   "source": [
    "# Insira a resposta abaixo.\n"
   ]
  }
 ],
 "metadata": {
  "colab": {
   "collapsed_sections": [],
   "name": "Copy of Exercicios_Parte01.ipynb",
   "provenance": [
    {
     "file_id": "1eUeGKAyD7Kr-DofhzouR7h8w1Rxp1dsv",
     "timestamp": 1550169362408
    }
   ],
   "version": "0.3.2"
  },
  "kernelspec": {
   "display_name": "Python 3",
   "language": "python",
   "name": "python3"
  },
  "language_info": {
   "codemirror_mode": {
    "name": "ipython",
    "version": 3
   },
   "file_extension": ".py",
   "mimetype": "text/x-python",
   "name": "python",
   "nbconvert_exporter": "python",
   "pygments_lexer": "ipython3",
   "version": "3.6.5"
  }
 },
 "nbformat": 4,
 "nbformat_minor": 1
}
